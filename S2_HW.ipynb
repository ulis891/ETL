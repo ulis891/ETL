{
 "cells":[
  {
   "cell_type":"markdown",
   "source":[
    "# ETL: автоматизация подготовки данных (семинары)\n",
    "## Урок 2. Введение в подготовку данных для аналитиков. Таблицы фактов и таблицы измерений"
   ],
   "attachments":{
    
   },
   "metadata":{
    "datalore":{
     "node_id":"xdU2NsQBN3ZM6wIHM1vVdz",
     "type":"MD",
     "hide_input_from_viewers":false,
     "hide_output_from_viewers":false,
     "report_properties":{
      "rowId":"bA9sINQpNjaHLsrhhMRwO7",
      "relativeY":0
     }
    }
   }
  },
  {
   "cell_type":"markdown",
   "source":[
    "### 1. Скачайте датасет fifаs2.сsv. Проанализируйте его и определите, какие данные являются неполными. Удалите ненужные колонки и недостающие значения.\n",
    "\n",
    "### 2. Найдите в датафрейме полные дубликаты и удалите их. Значения могут быть одинаковыми, но написаны по-разному. Например, может отличаться размер регистра (заглавные и строчные буквы). Особое внимание уделить колонке с названиями команд.\n",
    "\n",
    "### 3. Напишите функцию, которая добавит колонку с разбиением возраста по группам: до 20, от 20 до 30, от 30 до 36 и старше 36. Посчитайте количество футболистов в каждой категории."
   ],
   "attachments":{
    
   },
   "metadata":{
    "datalore":{
     "node_id":"81eXjKMqgYMbYoo5Y3ICNB",
     "type":"MD",
     "hide_input_from_viewers":false,
     "hide_output_from_viewers":false,
     "report_properties":{
      "rowId":"LA0MeVWDdKBRV3iEemSLyg",
      "relativeY":0
     }
    }
   }
  },
  {
   "cell_type":"markdown",
   "source":[
    "###  Подключаем библиотеки и делаем настройки"
   ],
   "attachments":{
    
   },
   "metadata":{
    "datalore":{
     "node_id":"UjTEMfND9nGOr0O842VxRH",
     "type":"MD",
     "hide_input_from_viewers":false,
     "hide_output_from_viewers":false,
     "report_properties":{
      "rowId":"z8vG0N6SIOGcZRWZHaAlb9",
      "relativeY":0
     }
    }
   }
  },
  {
   "cell_type":"code",
   "source":[
    "import pandas as pd\n",
    "import seaborn as sns\n",
    "import numpy as np\n",
    "import  matplotlib.pyplot as plt\n",
    "import  matplotlib\n",
    "\n",
    "plt.style.use('ggplot')\n",
    "%matplotlib inline\n",
    "matplotlib.rcParams['figure.figsize'] = (12, 8)\n",
    "pd.options.mode.chained_assignment = None"
   ],
   "execution_count":103,
   "outputs":[
    
   ],
   "metadata":{
    "datalore":{
     "node_id":"CKqV64JDEaNz9JzrnbslDb",
     "type":"CODE",
     "hide_input_from_viewers":false,
     "hide_output_from_viewers":false,
     "report_properties":{
      "rowId":"y9PqolLJl3T9Fiwf46qHSr",
      "relativeY":0
     }
    }
   }
  },
  {
   "cell_type":"markdown",
   "source":[
    "### Создаём датасет"
   ],
   "attachments":{
    
   },
   "metadata":{
    "datalore":{
     "node_id":"ViwCQbQNg6pKXfQk0D8YHh",
     "type":"MD",
     "hide_input_from_viewers":false,
     "hide_output_from_viewers":false,
     "report_properties":{
      "rowId":"wvx8Fel6z1hhHR6XaiuVMF",
      "relativeY":0
     }
    }
   }
  },
  {
   "cell_type":"code",
   "source":[
    "df = pd.read_csv('\/data\/notebook_files\/fifa_s2.csv', encoding='latin-1')"
   ],
   "execution_count":104,
   "outputs":[
    
   ],
   "metadata":{
    "datalore":{
     "node_id":"zxuZOy7vh0m5iooQw0kBOT",
     "type":"CODE",
     "hide_input_from_viewers":false,
     "hide_output_from_viewers":false,
     "report_properties":{
      "rowId":"JxXKb9ttYHTwV1YpKkHrVD",
      "relativeY":0
     }
    }
   }
  },
  {
   "cell_type":"markdown",
   "source":[
    "### Анализируем полученый датасет"
   ],
   "attachments":{
    
   },
   "metadata":{
    "datalore":{
     "node_id":"qBHyTLtTDvMh1UvI4E4m8U",
     "type":"MD",
     "hide_input_from_viewers":false,
     "hide_output_from_viewers":false,
     "report_properties":{
      "rowId":"6U6U3P1NaDq0fj4wsi4qfy",
      "relativeY":0
     }
    }
   }
  },
  {
   "cell_type":"code",
   "source":[
    "df.head(10)"
   ],
   "execution_count":105,
   "outputs":[
    {
     "data":{
      "text\/html":[
       "<div>\n",
       "<style scoped>\n",
       "    .dataframe tbody tr th:only-of-type {\n",
       "        vertical-align: middle;\n",
       "    }\n",
       "\n",
       "    .dataframe tbody tr th {\n",
       "        vertical-align: top;\n",
       "    }\n",
       "\n",
       "    .dataframe thead th {\n",
       "        text-align: right;\n",
       "    }\n",
       "<\/style>\n",
       "<table border=\"1\" class=\"dataframe\">\n",
       "  <thead>\n",
       "    <tr style=\"text-align: right;\">\n",
       "      <th><\/th>\n",
       "      <th>ID<\/th>\n",
       "      <th>Name<\/th>\n",
       "      <th>Age<\/th>\n",
       "      <th>Nationality<\/th>\n",
       "      <th>Overall<\/th>\n",
       "      <th>Potential<\/th>\n",
       "      <th>Club<\/th>\n",
       "      <th>Value<\/th>\n",
       "      <th>Wage<\/th>\n",
       "      <th>Preferred Foot<\/th>\n",
       "      <th>International Reputation<\/th>\n",
       "      <th>Skill Moves<\/th>\n",
       "      <th>Position<\/th>\n",
       "      <th>Joined<\/th>\n",
       "      <th>Contract Valid Until<\/th>\n",
       "      <th>Height<\/th>\n",
       "      <th>Weight<\/th>\n",
       "      <th>Release Clause<\/th>\n",
       "    <\/tr>\n",
       "  <\/thead>\n",
       "  <tbody>\n",
       "    <tr>\n",
       "      <th>0<\/th>\n",
       "      <td>1179<\/td>\n",
       "      <td>G. Buffon<\/td>\n",
       "      <td>40<\/td>\n",
       "      <td>Italy<\/td>\n",
       "      <td>88<\/td>\n",
       "      <td>88<\/td>\n",
       "      <td>Paris Saint-Germain<\/td>\n",
       "      <td>4000.0<\/td>\n",
       "      <td>77<\/td>\n",
       "      <td>Right<\/td>\n",
       "      <td>4.0<\/td>\n",
       "      <td>1.0<\/td>\n",
       "      <td>GK<\/td>\n",
       "      <td>2018<\/td>\n",
       "      <td>01\/01\/2019<\/td>\n",
       "      <td>6.333333<\/td>\n",
       "      <td>203.0<\/td>\n",
       "      <td>7400.0<\/td>\n",
       "    <\/tr>\n",
       "    <tr>\n",
       "      <th>1<\/th>\n",
       "      <td>5479<\/td>\n",
       "      <td>Casillas<\/td>\n",
       "      <td>37<\/td>\n",
       "      <td>Spain<\/td>\n",
       "      <td>82<\/td>\n",
       "      <td>82<\/td>\n",
       "      <td>FC Porto<\/td>\n",
       "      <td>1500.0<\/td>\n",
       "      <td>10<\/td>\n",
       "      <td>Left<\/td>\n",
       "      <td>4.0<\/td>\n",
       "      <td>1.0<\/td>\n",
       "      <td>NaN<\/td>\n",
       "      <td>2015<\/td>\n",
       "      <td>01\/01\/2019<\/td>\n",
       "      <td>6.083333<\/td>\n",
       "      <td>185.0<\/td>\n",
       "      <td>3000.0<\/td>\n",
       "    <\/tr>\n",
       "    <tr>\n",
       "      <th>2<\/th>\n",
       "      <td>8205<\/td>\n",
       "      <td>Braga<\/td>\n",
       "      <td>35<\/td>\n",
       "      <td>Portugal<\/td>\n",
       "      <td>70<\/td>\n",
       "      <td>70<\/td>\n",
       "      <td>CD Aves<\/td>\n",
       "      <td>750.0<\/td>\n",
       "      <td>5<\/td>\n",
       "      <td>Right<\/td>\n",
       "      <td>1.0<\/td>\n",
       "      <td>3.0<\/td>\n",
       "      <td>LCM<\/td>\n",
       "      <td>2017<\/td>\n",
       "      <td>01\/01\/2019<\/td>\n",
       "      <td>5.916667<\/td>\n",
       "      <td>165.0<\/td>\n",
       "      <td>1600.0<\/td>\n",
       "    <\/tr>\n",
       "    <tr>\n",
       "      <th>3<\/th>\n",
       "      <td>9014<\/td>\n",
       "      <td>A. Robben<\/td>\n",
       "      <td>34<\/td>\n",
       "      <td>Netherlands<\/td>\n",
       "      <td>84<\/td>\n",
       "      <td>84<\/td>\n",
       "      <td>FC Bayern MÃ¼nchen<\/td>\n",
       "      <td>15500.0<\/td>\n",
       "      <td>110<\/td>\n",
       "      <td>Left<\/td>\n",
       "      <td>4.0<\/td>\n",
       "      <td>4.0<\/td>\n",
       "      <td>RM<\/td>\n",
       "      <td>2009<\/td>\n",
       "      <td>01\/01\/2019<\/td>\n",
       "      <td>5.916667<\/td>\n",
       "      <td>176.0<\/td>\n",
       "      <td>25600.0<\/td>\n",
       "    <\/tr>\n",
       "    <tr>\n",
       "      <th>4<\/th>\n",
       "      <td>19521<\/td>\n",
       "      <td>J. Ibehre<\/td>\n",
       "      <td>35<\/td>\n",
       "      <td>England<\/td>\n",
       "      <td>61<\/td>\n",
       "      <td>61<\/td>\n",
       "      <td>Cambridge United<\/td>\n",
       "      <td>120.0<\/td>\n",
       "      <td>2<\/td>\n",
       "      <td>Right<\/td>\n",
       "      <td>1.0<\/td>\n",
       "      <td>2.0<\/td>\n",
       "      <td>ST<\/td>\n",
       "      <td>2017<\/td>\n",
       "      <td>01\/01\/2019<\/td>\n",
       "      <td>6.333333<\/td>\n",
       "      <td>203.0<\/td>\n",
       "      <td>210.0<\/td>\n",
       "    <\/tr>\n",
       "    <tr>\n",
       "      <th>5<\/th>\n",
       "      <td>20209<\/td>\n",
       "      <td>Ricardo Costa<\/td>\n",
       "      <td>37<\/td>\n",
       "      <td>Portugal<\/td>\n",
       "      <td>74<\/td>\n",
       "      <td>74<\/td>\n",
       "      <td>CD Tondela<\/td>\n",
       "      <td>750.0<\/td>\n",
       "      <td>4<\/td>\n",
       "      <td>Right<\/td>\n",
       "      <td>2.0<\/td>\n",
       "      <td>2.0<\/td>\n",
       "      <td>LCB<\/td>\n",
       "      <td>2017<\/td>\n",
       "      <td>01\/01\/2019<\/td>\n",
       "      <td>6.000000<\/td>\n",
       "      <td>181.0<\/td>\n",
       "      <td>1600.0<\/td>\n",
       "    <\/tr>\n",
       "    <tr>\n",
       "      <th>6<\/th>\n",
       "      <td>20801<\/td>\n",
       "      <td>Cristiano Ronaldo<\/td>\n",
       "      <td>33<\/td>\n",
       "      <td>Portugal<\/td>\n",
       "      <td>94<\/td>\n",
       "      <td>94<\/td>\n",
       "      <td>Juventus<\/td>\n",
       "      <td>77000.0<\/td>\n",
       "      <td>405<\/td>\n",
       "      <td>Right<\/td>\n",
       "      <td>5.0<\/td>\n",
       "      <td>5.0<\/td>\n",
       "      <td>ST<\/td>\n",
       "      <td>2018<\/td>\n",
       "      <td>01\/01\/2022<\/td>\n",
       "      <td>6.166667<\/td>\n",
       "      <td>183.0<\/td>\n",
       "      <td>127100.0<\/td>\n",
       "    <\/tr>\n",
       "    <tr>\n",
       "      <th>7<\/th>\n",
       "      <td>24630<\/td>\n",
       "      <td>Pepe Reina<\/td>\n",
       "      <td>35<\/td>\n",
       "      <td>Spain<\/td>\n",
       "      <td>83<\/td>\n",
       "      <td>83<\/td>\n",
       "      <td>Milan<\/td>\n",
       "      <td>6000.0<\/td>\n",
       "      <td>56<\/td>\n",
       "      <td>Right<\/td>\n",
       "      <td>3.0<\/td>\n",
       "      <td>1.0<\/td>\n",
       "      <td>GK<\/td>\n",
       "      <td>2018<\/td>\n",
       "      <td>NaN<\/td>\n",
       "      <td>6.166667<\/td>\n",
       "      <td>203.0<\/td>\n",
       "      <td>10200.0<\/td>\n",
       "    <\/tr>\n",
       "    <tr>\n",
       "      <th>8<\/th>\n",
       "      <td>27532<\/td>\n",
       "      <td>D. de Vries<\/td>\n",
       "      <td>37<\/td>\n",
       "      <td>Netherlands<\/td>\n",
       "      <td>66<\/td>\n",
       "      <td>66<\/td>\n",
       "      <td>Celtic<\/td>\n",
       "      <td>40.0<\/td>\n",
       "      <td>7<\/td>\n",
       "      <td>Right<\/td>\n",
       "      <td>1.0<\/td>\n",
       "      <td>1.0<\/td>\n",
       "      <td>GK<\/td>\n",
       "      <td>2016<\/td>\n",
       "      <td>01\/01\/2019<\/td>\n",
       "      <td>6.250000<\/td>\n",
       "      <td>212.0<\/td>\n",
       "      <td>72.0<\/td>\n",
       "    <\/tr>\n",
       "    <tr>\n",
       "      <th>9<\/th>\n",
       "      <td>45083<\/td>\n",
       "      <td>S. von Bergen<\/td>\n",
       "      <td>35<\/td>\n",
       "      <td>Switzerland<\/td>\n",
       "      <td>73<\/td>\n",
       "      <td>73<\/td>\n",
       "      <td>BSC Young Boys<\/td>\n",
       "      <td>950.0<\/td>\n",
       "      <td>12<\/td>\n",
       "      <td>Right<\/td>\n",
       "      <td>2.0<\/td>\n",
       "      <td>2.0<\/td>\n",
       "      <td>LCB<\/td>\n",
       "      <td>2013<\/td>\n",
       "      <td>01\/01\/2022<\/td>\n",
       "      <td>6.000000<\/td>\n",
       "      <td>174.0<\/td>\n",
       "      <td>1400.0<\/td>\n",
       "    <\/tr>\n",
       "  <\/tbody>\n",
       "<\/table>\n",
       "<\/div>"
      ]
     },
     "metadata":{
      
     },
     "output_type":"display_data"
    }
   ],
   "metadata":{
    "datalore":{
     "node_id":"KGFoPFTU5yZoujedmEgH8d",
     "type":"CODE",
     "hide_input_from_viewers":false,
     "hide_output_from_viewers":false,
     "report_properties":{
      "rowId":"fA5Z1TWAdYL0HGlqZ7snoU",
      "relativeY":0
     }
    }
   }
  },
  {
   "cell_type":"code",
   "source":[
    "df.shape"
   ],
   "execution_count":106,
   "outputs":[
    {
     "data":{
      "text\/plain":[
       "(2399, 18)"
      ]
     },
     "metadata":{
      
     },
     "output_type":"display_data"
    }
   ],
   "metadata":{
    "datalore":{
     "node_id":"uGy1XBS1xYPU6Vtv2vtNcu",
     "type":"CODE",
     "hide_input_from_viewers":false,
     "hide_output_from_viewers":false,
     "report_properties":{
      "rowId":"9KXKBBAugfkRo23XbTNp5g",
      "relativeY":0
     }
    }
   }
  },
  {
   "cell_type":"code",
   "source":[
    "df.dtypes"
   ],
   "execution_count":107,
   "outputs":[
    {
     "data":{
      "text\/html":[
       "<pre>ID                            int64\n",
       "Name                         object\n",
       "Age                           int64\n",
       "Nationality                  object\n",
       "Overall                       int64\n",
       "Potential                     int64\n",
       "Club                         object\n",
       "Value                       float64\n",
       "Wage                          int64\n",
       "Preferred Foot               object\n",
       "International Reputation    float64\n",
       "Skill Moves                 float64\n",
       "Position                     object\n",
       "Joined                        int64\n",
       "Contract Valid Until         object\n",
       "Height                      float64\n",
       "Weight                      float64\n",
       "Release Clause              float64\n",
       "dtype: object<\/pre>"
      ]
     },
     "metadata":{
      
     },
     "output_type":"display_data"
    }
   ],
   "metadata":{
    "datalore":{
     "node_id":"RtUfrZ7SAMRukyY0C3oQhK",
     "type":"CODE",
     "hide_input_from_viewers":false,
     "hide_output_from_viewers":false,
     "report_properties":{
      "rowId":"HP3Bdk39Bkn7mOUzroq7MD",
      "relativeY":0
     }
    }
   }
  },
  {
   "cell_type":"code",
   "source":[
    "df.isnull().sum()"
   ],
   "execution_count":108,
   "outputs":[
    {
     "data":{
      "text\/html":[
       "<pre>ID                            0\n",
       "Name                          0\n",
       "Age                           0\n",
       "Nationality                   7\n",
       "Overall                       0\n",
       "Potential                     0\n",
       "Club                        241\n",
       "Value                       257\n",
       "Wage                          0\n",
       "Preferred Foot                0\n",
       "International Reputation     10\n",
       "Skill Moves                   6\n",
       "Position                     21\n",
       "Joined                        0\n",
       "Contract Valid Until        273\n",
       "Height                        0\n",
       "Weight                        0\n",
       "Release Clause                3\n",
       "dtype: int64<\/pre>"
      ]
     },
     "metadata":{
      
     },
     "output_type":"display_data"
    }
   ],
   "metadata":{
    "datalore":{
     "node_id":"fHgFjKZkXUYPnylEjRIpTp",
     "type":"CODE",
     "hide_input_from_viewers":false,
     "hide_output_from_viewers":false,
     "report_properties":{
      "rowId":"s3GE65aJLkJioo4CsQe2ef",
      "relativeY":0
     }
    }
   }
  },
  {
   "cell_type":"code",
   "source":[
    "cols = df.columns\n",
    "colors = ['#000999', '#ffff00']\n",
    "sns.heatmap(df[cols].isnull(), cmap=sns.color_palette(colors))"
   ],
   "execution_count":109,
   "outputs":[
    {
     "data":{
      "text\/plain":[
       "<Axes: >"
      ]
     },
     "metadata":{
      
     },
     "output_type":"display_data"
    },
    {
     "data":{
      "image\/png":"[encoded data removed]"
     },
     "metadata":{
      "image\/png":{
       
      }
     },
     "output_type":"display_data"
    }
   ],
   "metadata":{
    "datalore":{
     "node_id":"0cssc2JFKaZcKHzvQUnb5s",
     "type":"CODE",
     "hide_input_from_viewers":false,
     "hide_output_from_viewers":false,
     "report_properties":{
      "rowId":"uT44gvhrPOJHSnjEoBUobi",
      "relativeY":0
     }
    }
   }
  },
  {
   "cell_type":"code",
   "source":[
    "for col in df.columns:\n",
    "    missing_values = np.mean(df[col].isnull())\n",
    "    print(f\"{col} - {round(missing_values*100)}%\")"
   ],
   "execution_count":110,
   "outputs":[
    {
     "name":"stdout",
     "text":[
      "ID - 0%\n",
      "Name - 0%\n",
      "Age - 0%\n",
      "Nationality - 0%\n",
      "Overall - 0%\n",
      "Potential - 0%\n",
      "Club - 10%\n",
      "Value - 11%\n",
      "Wage - 0%\n",
      "Preferred Foot - 0%\n",
      "International Reputation - 0%\n",
      "Skill Moves - 0%\n",
      "Position - 1%\n",
      "Joined - 0%\n",
      "Contract Valid Until - 11%\n",
      "Height - 0%\n",
      "Weight - 0%\n",
      "Release Clause - 0%\n"
     ],
     "output_type":"stream"
    }
   ],
   "metadata":{
    "datalore":{
     "node_id":"2jcbTi9ZCTgwQ98Ur69gdl",
     "type":"CODE",
     "hide_input_from_viewers":false,
     "hide_output_from_viewers":false,
     "report_properties":{
      "rowId":"R4CsW66FewtAbak7BMMnJQ",
      "relativeY":0
     }
    }
   }
  },
  {
   "cell_type":"markdown",
   "source":[
    "### Видим, что больше всего пропусков в столбцах Club, Value и Contract Valid Until. В столбец Contract Valid Until помимо пропусков, записанна дата в нечитаемом формате, будем считать, что такие данные нам не нужны и удалим этот столбец. Столбец Club оставим без измененний так как эти данные нам не сильно помешают. А пропуски в столбеце Value заполним мидианными значениями."
   ],
   "attachments":{
    
   },
   "metadata":{
    "datalore":{
     "node_id":"JqlFTe4d6dti59QJz3lgn6",
     "type":"MD",
     "hide_input_from_viewers":false,
     "hide_output_from_viewers":false,
     "report_properties":{
      "rowId":"9Zg42BbX7H8xbPaZ2eTDr6",
      "relativeY":0
     }
    }
   }
  },
  {
   "cell_type":"markdown",
   "source":[
    "### Удаляем Contract Valid Until"
   ],
   "attachments":{
    
   },
   "metadata":{
    "datalore":{
     "node_id":"GBccza4m2HWDUUQnMqPjzT",
     "type":"MD",
     "hide_input_from_viewers":false,
     "hide_output_from_viewers":false,
     "report_properties":{
      "rowId":"ktHFT7jga2QBBucVO86j5X",
      "relativeY":0
     }
    }
   }
  },
  {
   "cell_type":"code",
   "source":[
    "df = df.drop('Contract Valid Until', axis=1)"
   ],
   "execution_count":111,
   "outputs":[
    
   ],
   "metadata":{
    "datalore":{
     "node_id":"q15v4rSl8kGRtNBZQOlLhM",
     "type":"CODE",
     "hide_input_from_viewers":false,
     "hide_output_from_viewers":false,
     "report_properties":{
      "rowId":"snvoHAHqmz9FJtIiuzj6zo",
      "relativeY":0
     }
    }
   }
  },
  {
   "cell_type":"markdown",
   "source":[
    "### Пропуски в столбеце Value заполним мидианными значениями"
   ],
   "attachments":{
    
   },
   "metadata":{
    "datalore":{
     "node_id":"y4cHFy53N0QvnDhSVuuMJK",
     "type":"MD",
     "hide_input_from_viewers":false,
     "hide_output_from_viewers":false,
     "report_properties":{
      "rowId":"vjnOpoNUzbbst6nIoudaU8",
      "relativeY":0
     }
    }
   }
  },
  {
   "cell_type":"code",
   "source":[
    "df['Value'] = df['Value'].fillna(df['Value'].mean())"
   ],
   "execution_count":112,
   "outputs":[
    
   ],
   "metadata":{
    "datalore":{
     "node_id":"7jjNDxP3MuIeQNL5DTojiD",
     "type":"CODE",
     "hide_input_from_viewers":false,
     "hide_output_from_viewers":false,
     "report_properties":{
      "rowId":"u1AXHfSHdD4SSiRhxgNLxr",
      "relativeY":0
     }
    }
   }
  },
  {
   "cell_type":"markdown",
   "source":[
    "### Проверяем на отсутствие значений"
   ],
   "attachments":{
    
   },
   "metadata":{
    "datalore":{
     "node_id":"HS28B5zKqj7ma3OX4QaJY8",
     "type":"MD",
     "hide_input_from_viewers":false,
     "hide_output_from_viewers":false,
     "report_properties":{
      "rowId":"GXbzS6TqzxMaipfRCZDQ7J",
      "relativeY":0
     }
    }
   }
  },
  {
   "cell_type":"code",
   "source":[
    "df['Value'].isnull().sum()"
   ],
   "execution_count":113,
   "outputs":[
    {
     "data":{
      "text\/plain":[
       "0"
      ]
     },
     "metadata":{
      
     },
     "output_type":"display_data"
    }
   ],
   "metadata":{
    "datalore":{
     "node_id":"LELYi6oE9TAuQpT5ZNuzIv",
     "type":"CODE",
     "hide_input_from_viewers":false,
     "hide_output_from_viewers":false,
     "report_properties":{
      "rowId":"mDgC5TH8iDtu5JgRU6ymQl",
      "relativeY":0
     }
    }
   }
  },
  {
   "cell_type":"markdown",
   "source":[
    "### Создаём функцию для приведения строковых данных к единому образцу"
   ],
   "attachments":{
    
   },
   "metadata":{
    "datalore":{
     "node_id":"ss9jyS4mO9ze73Wg8kfQqS",
     "type":"MD",
     "hide_input_from_viewers":false,
     "hide_output_from_viewers":false,
     "report_properties":{
      "rowId":"efvJ0BQGrBItmegH6g6wEa",
      "relativeY":0
     }
    }
   }
  },
  {
   "cell_type":"code",
   "source":[
    "def convert_to_upper(column_name):\n",
    "    if df[column_name].dtypes == 'object':\n",
    "        df[column_name] = df[column_name].str.capitalize()"
   ],
   "execution_count":114,
   "outputs":[
    
   ],
   "metadata":{
    "datalore":{
     "node_id":"PlVgMZqY5QBpQESb8QADbk",
     "type":"CODE",
     "hide_input_from_viewers":false,
     "hide_output_from_viewers":false,
     "report_properties":{
      "rowId":"9juOvNgA8fWSVZH19k33as",
      "relativeY":0
     }
    }
   }
  },
  {
   "cell_type":"markdown",
   "source":[
    "### Применяем функцию на весь датафрейм"
   ],
   "attachments":{
    
   },
   "metadata":{
    "datalore":{
     "node_id":"4JPKB5AzuY3PjnU5W6t6dI",
     "type":"MD",
     "hide_input_from_viewers":false,
     "hide_output_from_viewers":false,
     "report_properties":{
      "rowId":"yG7m4ZXfhz9Seqz4wxn2nX",
      "relativeY":0
     }
    }
   }
  },
  {
   "cell_type":"code",
   "source":[
    "for i in df:\n",
    "    convert_to_upper(i)"
   ],
   "execution_count":115,
   "outputs":[
    
   ],
   "metadata":{
    "datalore":{
     "node_id":"DmF0kNQLLQX4U8ZZxqTTvQ",
     "type":"CODE",
     "hide_input_from_viewers":false,
     "hide_output_from_viewers":false,
     "report_properties":{
      "rowId":"4YOJwmAWpHaQE6fjXceegz",
      "relativeY":0
     }
    }
   }
  },
  {
   "cell_type":"code",
   "source":[
    "df.shape"
   ],
   "execution_count":116,
   "outputs":[
    {
     "data":{
      "text\/plain":[
       "(2399, 17)"
      ]
     },
     "metadata":{
      
     },
     "output_type":"display_data"
    }
   ],
   "metadata":{
    "datalore":{
     "node_id":"Dq704f0KKBO0kLUCPMOKPc",
     "type":"CODE",
     "hide_input_from_viewers":false,
     "hide_output_from_viewers":false,
     "report_properties":{
      "rowId":"eV20rnVzdbwTOgW7CRwHf9",
      "relativeY":0
     }
    }
   }
  },
  {
   "cell_type":"markdown",
   "source":[
    "### Удаляем дубликаты"
   ],
   "attachments":{
    
   },
   "metadata":{
    "datalore":{
     "node_id":"EfPsOvRPI0SELMnTvaTN1v",
     "type":"MD",
     "hide_input_from_viewers":false,
     "hide_output_from_viewers":false,
     "report_properties":{
      "rowId":"QiHigGe7NKMSYsFkd4tKat",
      "relativeY":0
     }
    }
   }
  },
  {
   "cell_type":"code",
   "source":[
    "df = df.drop_duplicates(inplace=False, keep='first')"
   ],
   "execution_count":117,
   "outputs":[
    
   ],
   "metadata":{
    "datalore":{
     "node_id":"lb0AkSU2iUvyHfzr7UqRoZ",
     "type":"CODE",
     "hide_input_from_viewers":false,
     "hide_output_from_viewers":false,
     "report_properties":{
      "rowId":"uMduM960se2QHY0jbeKOMI",
      "relativeY":0
     }
    }
   }
  },
  {
   "cell_type":"code",
   "source":[
    "df.shape"
   ],
   "execution_count":118,
   "outputs":[
    {
     "data":{
      "text\/plain":[
       "(2397, 17)"
      ]
     },
     "metadata":{
      
     },
     "output_type":"display_data"
    }
   ],
   "metadata":{
    "datalore":{
     "node_id":"tQ3eys2uTfZKA5POniL5mY",
     "type":"CODE",
     "hide_input_from_viewers":false,
     "hide_output_from_viewers":false,
     "report_properties":{
      "rowId":"LxoAwhr9ld1mMUI4rLl0iF",
      "relativeY":0
     }
    }
   }
  },
  {
   "cell_type":"markdown",
   "source":[
    "## функция, которая добавит колонку с разбиением возраста по группам: до 20, от 20 до 30, от 30 до 36 и старше 36"
   ],
   "attachments":{
    
   },
   "metadata":{
    "datalore":{
     "node_id":"hUkkksF90gG9bjrJ7ZDpS3",
     "type":"MD",
     "hide_input_from_viewers":false,
     "hide_output_from_viewers":false,
     "report_properties":{
      "rowId":"08mjaPzBC23Ci69cKyhdOD",
      "relativeY":0
     }
    }
   }
  },
  {
   "cell_type":"code",
   "source":[
    "def age(row):\n",
    "    if row['Age'] < 20:\n",
    "        return 'young'\n",
    "    elif row['Age'] < 30:\n",
    "        return 'middle'\n",
    "    elif row['Age'] <= 36:\n",
    "        return 'old'\n",
    "    else :\n",
    "        return 'very old'\n",
    "\n",
    "\n",
    "\n",
    "df['Age group'] = df.apply (age, axis=1)"
   ],
   "execution_count":119,
   "outputs":[
    
   ],
   "metadata":{
    "datalore":{
     "node_id":"TfXoNpUcz4Edxs6OrOmX7H",
     "type":"CODE",
     "hide_input_from_viewers":false,
     "hide_output_from_viewers":false,
     "report_properties":{
      "rowId":"zqeFnUYll6MCoF4dShuBQo",
      "relativeY":0
     }
    }
   }
  },
  {
   "cell_type":"code",
   "source":[
    "df.head(15)"
   ],
   "execution_count":120,
   "outputs":[
    {
     "data":{
      "text\/html":[
       "<div>\n",
       "<style scoped>\n",
       "    .dataframe tbody tr th:only-of-type {\n",
       "        vertical-align: middle;\n",
       "    }\n",
       "\n",
       "    .dataframe tbody tr th {\n",
       "        vertical-align: top;\n",
       "    }\n",
       "\n",
       "    .dataframe thead th {\n",
       "        text-align: right;\n",
       "    }\n",
       "<\/style>\n",
       "<table border=\"1\" class=\"dataframe\">\n",
       "  <thead>\n",
       "    <tr style=\"text-align: right;\">\n",
       "      <th><\/th>\n",
       "      <th>ID<\/th>\n",
       "      <th>Name<\/th>\n",
       "      <th>Age<\/th>\n",
       "      <th>Nationality<\/th>\n",
       "      <th>Overall<\/th>\n",
       "      <th>Potential<\/th>\n",
       "      <th>Club<\/th>\n",
       "      <th>Value<\/th>\n",
       "      <th>Wage<\/th>\n",
       "      <th>Preferred Foot<\/th>\n",
       "      <th>International Reputation<\/th>\n",
       "      <th>Skill Moves<\/th>\n",
       "      <th>Position<\/th>\n",
       "      <th>Joined<\/th>\n",
       "      <th>Height<\/th>\n",
       "      <th>Weight<\/th>\n",
       "      <th>Release Clause<\/th>\n",
       "      <th>Age group<\/th>\n",
       "    <\/tr>\n",
       "  <\/thead>\n",
       "  <tbody>\n",
       "    <tr>\n",
       "      <th>0<\/th>\n",
       "      <td>1179<\/td>\n",
       "      <td>G. buffon<\/td>\n",
       "      <td>40<\/td>\n",
       "      <td>Italy<\/td>\n",
       "      <td>88<\/td>\n",
       "      <td>88<\/td>\n",
       "      <td>Paris saint-germain<\/td>\n",
       "      <td>4000.0<\/td>\n",
       "      <td>77<\/td>\n",
       "      <td>Right<\/td>\n",
       "      <td>4.0<\/td>\n",
       "      <td>1.0<\/td>\n",
       "      <td>Gk<\/td>\n",
       "      <td>2018<\/td>\n",
       "      <td>6.333333<\/td>\n",
       "      <td>203.0<\/td>\n",
       "      <td>7400.0<\/td>\n",
       "      <td>very old<\/td>\n",
       "    <\/tr>\n",
       "    <tr>\n",
       "      <th>1<\/th>\n",
       "      <td>5479<\/td>\n",
       "      <td>Casillas<\/td>\n",
       "      <td>37<\/td>\n",
       "      <td>Spain<\/td>\n",
       "      <td>82<\/td>\n",
       "      <td>82<\/td>\n",
       "      <td>Fc porto<\/td>\n",
       "      <td>1500.0<\/td>\n",
       "      <td>10<\/td>\n",
       "      <td>Left<\/td>\n",
       "      <td>4.0<\/td>\n",
       "      <td>1.0<\/td>\n",
       "      <td>NaN<\/td>\n",
       "      <td>2015<\/td>\n",
       "      <td>6.083333<\/td>\n",
       "      <td>185.0<\/td>\n",
       "      <td>3000.0<\/td>\n",
       "      <td>very old<\/td>\n",
       "    <\/tr>\n",
       "    <tr>\n",
       "      <th>2<\/th>\n",
       "      <td>8205<\/td>\n",
       "      <td>Braga<\/td>\n",
       "      <td>35<\/td>\n",
       "      <td>Portugal<\/td>\n",
       "      <td>70<\/td>\n",
       "      <td>70<\/td>\n",
       "      <td>Cd aves<\/td>\n",
       "      <td>750.0<\/td>\n",
       "      <td>5<\/td>\n",
       "      <td>Right<\/td>\n",
       "      <td>1.0<\/td>\n",
       "      <td>3.0<\/td>\n",
       "      <td>Lcm<\/td>\n",
       "      <td>2017<\/td>\n",
       "      <td>5.916667<\/td>\n",
       "      <td>165.0<\/td>\n",
       "      <td>1600.0<\/td>\n",
       "      <td>old<\/td>\n",
       "    <\/tr>\n",
       "    <tr>\n",
       "      <th>3<\/th>\n",
       "      <td>9014<\/td>\n",
       "      <td>A. robben<\/td>\n",
       "      <td>34<\/td>\n",
       "      <td>Netherlands<\/td>\n",
       "      <td>84<\/td>\n",
       "      <td>84<\/td>\n",
       "      <td>Fc bayern mã¼nchen<\/td>\n",
       "      <td>15500.0<\/td>\n",
       "      <td>110<\/td>\n",
       "      <td>Left<\/td>\n",
       "      <td>4.0<\/td>\n",
       "      <td>4.0<\/td>\n",
       "      <td>Rm<\/td>\n",
       "      <td>2009<\/td>\n",
       "      <td>5.916667<\/td>\n",
       "      <td>176.0<\/td>\n",
       "      <td>25600.0<\/td>\n",
       "      <td>old<\/td>\n",
       "    <\/tr>\n",
       "    <tr>\n",
       "      <th>4<\/th>\n",
       "      <td>19521<\/td>\n",
       "      <td>J. ibehre<\/td>\n",
       "      <td>35<\/td>\n",
       "      <td>England<\/td>\n",
       "      <td>61<\/td>\n",
       "      <td>61<\/td>\n",
       "      <td>Cambridge united<\/td>\n",
       "      <td>120.0<\/td>\n",
       "      <td>2<\/td>\n",
       "      <td>Right<\/td>\n",
       "      <td>1.0<\/td>\n",
       "      <td>2.0<\/td>\n",
       "      <td>St<\/td>\n",
       "      <td>2017<\/td>\n",
       "      <td>6.333333<\/td>\n",
       "      <td>203.0<\/td>\n",
       "      <td>210.0<\/td>\n",
       "      <td>old<\/td>\n",
       "    <\/tr>\n",
       "    <tr>\n",
       "      <th>5<\/th>\n",
       "      <td>20209<\/td>\n",
       "      <td>Ricardo costa<\/td>\n",
       "      <td>37<\/td>\n",
       "      <td>Portugal<\/td>\n",
       "      <td>74<\/td>\n",
       "      <td>74<\/td>\n",
       "      <td>Cd tondela<\/td>\n",
       "      <td>750.0<\/td>\n",
       "      <td>4<\/td>\n",
       "      <td>Right<\/td>\n",
       "      <td>2.0<\/td>\n",
       "      <td>2.0<\/td>\n",
       "      <td>Lcb<\/td>\n",
       "      <td>2017<\/td>\n",
       "      <td>6.000000<\/td>\n",
       "      <td>181.0<\/td>\n",
       "      <td>1600.0<\/td>\n",
       "      <td>very old<\/td>\n",
       "    <\/tr>\n",
       "    <tr>\n",
       "      <th>6<\/th>\n",
       "      <td>20801<\/td>\n",
       "      <td>Cristiano ronaldo<\/td>\n",
       "      <td>33<\/td>\n",
       "      <td>Portugal<\/td>\n",
       "      <td>94<\/td>\n",
       "      <td>94<\/td>\n",
       "      <td>Juventus<\/td>\n",
       "      <td>77000.0<\/td>\n",
       "      <td>405<\/td>\n",
       "      <td>Right<\/td>\n",
       "      <td>5.0<\/td>\n",
       "      <td>5.0<\/td>\n",
       "      <td>St<\/td>\n",
       "      <td>2018<\/td>\n",
       "      <td>6.166667<\/td>\n",
       "      <td>183.0<\/td>\n",
       "      <td>127100.0<\/td>\n",
       "      <td>old<\/td>\n",
       "    <\/tr>\n",
       "    <tr>\n",
       "      <th>7<\/th>\n",
       "      <td>24630<\/td>\n",
       "      <td>Pepe reina<\/td>\n",
       "      <td>35<\/td>\n",
       "      <td>Spain<\/td>\n",
       "      <td>83<\/td>\n",
       "      <td>83<\/td>\n",
       "      <td>Milan<\/td>\n",
       "      <td>6000.0<\/td>\n",
       "      <td>56<\/td>\n",
       "      <td>Right<\/td>\n",
       "      <td>3.0<\/td>\n",
       "      <td>1.0<\/td>\n",
       "      <td>Gk<\/td>\n",
       "      <td>2018<\/td>\n",
       "      <td>6.166667<\/td>\n",
       "      <td>203.0<\/td>\n",
       "      <td>10200.0<\/td>\n",
       "      <td>old<\/td>\n",
       "    <\/tr>\n",
       "    <tr>\n",
       "      <th>8<\/th>\n",
       "      <td>27532<\/td>\n",
       "      <td>D. de vries<\/td>\n",
       "      <td>37<\/td>\n",
       "      <td>Netherlands<\/td>\n",
       "      <td>66<\/td>\n",
       "      <td>66<\/td>\n",
       "      <td>Celtic<\/td>\n",
       "      <td>40.0<\/td>\n",
       "      <td>7<\/td>\n",
       "      <td>Right<\/td>\n",
       "      <td>1.0<\/td>\n",
       "      <td>1.0<\/td>\n",
       "      <td>Gk<\/td>\n",
       "      <td>2016<\/td>\n",
       "      <td>6.250000<\/td>\n",
       "      <td>212.0<\/td>\n",
       "      <td>72.0<\/td>\n",
       "      <td>very old<\/td>\n",
       "    <\/tr>\n",
       "    <tr>\n",
       "      <th>9<\/th>\n",
       "      <td>45083<\/td>\n",
       "      <td>S. von bergen<\/td>\n",
       "      <td>35<\/td>\n",
       "      <td>Switzerland<\/td>\n",
       "      <td>73<\/td>\n",
       "      <td>73<\/td>\n",
       "      <td>Bsc young boys<\/td>\n",
       "      <td>950.0<\/td>\n",
       "      <td>12<\/td>\n",
       "      <td>Right<\/td>\n",
       "      <td>2.0<\/td>\n",
       "      <td>2.0<\/td>\n",
       "      <td>Lcb<\/td>\n",
       "      <td>2013<\/td>\n",
       "      <td>6.000000<\/td>\n",
       "      <td>174.0<\/td>\n",
       "      <td>1400.0<\/td>\n",
       "      <td>old<\/td>\n",
       "    <\/tr>\n",
       "    <tr>\n",
       "      <th>10<\/th>\n",
       "      <td>46175<\/td>\n",
       "      <td>M. rosenberg<\/td>\n",
       "      <td>35<\/td>\n",
       "      <td>Sweden<\/td>\n",
       "      <td>73<\/td>\n",
       "      <td>73<\/td>\n",
       "      <td>Malmã¶ ff<\/td>\n",
       "      <td>1800.0<\/td>\n",
       "      <td>6<\/td>\n",
       "      <td>Right<\/td>\n",
       "      <td>1.0<\/td>\n",
       "      <td>3.0<\/td>\n",
       "      <td>Rs<\/td>\n",
       "      <td>2014<\/td>\n",
       "      <td>6.000000<\/td>\n",
       "      <td>179.0<\/td>\n",
       "      <td>2400.0<\/td>\n",
       "      <td>old<\/td>\n",
       "    <\/tr>\n",
       "    <tr>\n",
       "      <th>11<\/th>\n",
       "      <td>47201<\/td>\n",
       "      <td>S. proto<\/td>\n",
       "      <td>35<\/td>\n",
       "      <td>Belgium<\/td>\n",
       "      <td>76<\/td>\n",
       "      <td>76<\/td>\n",
       "      <td>Lazio<\/td>\n",
       "      <td>1800.0<\/td>\n",
       "      <td>20<\/td>\n",
       "      <td>Right<\/td>\n",
       "      <td>2.0<\/td>\n",
       "      <td>1.0<\/td>\n",
       "      <td>Gk<\/td>\n",
       "      <td>2018<\/td>\n",
       "      <td>6.000000<\/td>\n",
       "      <td>163.0<\/td>\n",
       "      <td>3100.0<\/td>\n",
       "      <td>old<\/td>\n",
       "    <\/tr>\n",
       "    <tr>\n",
       "      <th>12<\/th>\n",
       "      <td>48940<\/td>\n",
       "      <td>P. äech<\/td>\n",
       "      <td>36<\/td>\n",
       "      <td>Czech republic<\/td>\n",
       "      <td>82<\/td>\n",
       "      <td>82<\/td>\n",
       "      <td>Arsenal<\/td>\n",
       "      <td>3000.0<\/td>\n",
       "      <td>60<\/td>\n",
       "      <td>Left<\/td>\n",
       "      <td>4.0<\/td>\n",
       "      <td>1.0<\/td>\n",
       "      <td>NaN<\/td>\n",
       "      <td>2015<\/td>\n",
       "      <td>6.416667<\/td>\n",
       "      <td>198.0<\/td>\n",
       "      <td>5700.0<\/td>\n",
       "      <td>old<\/td>\n",
       "    <\/tr>\n",
       "    <tr>\n",
       "      <th>13<\/th>\n",
       "      <td>52498<\/td>\n",
       "      <td>M. lehmann<\/td>\n",
       "      <td>35<\/td>\n",
       "      <td>Germany<\/td>\n",
       "      <td>72<\/td>\n",
       "      <td>72<\/td>\n",
       "      <td>1. fc kã¶ln<\/td>\n",
       "      <td>725.0<\/td>\n",
       "      <td>10<\/td>\n",
       "      <td>Right<\/td>\n",
       "      <td>2.0<\/td>\n",
       "      <td>2.0<\/td>\n",
       "      <td>Cdm<\/td>\n",
       "      <td>2012<\/td>\n",
       "      <td>5.833333<\/td>\n",
       "      <td>165.0<\/td>\n",
       "      <td>1100.0<\/td>\n",
       "      <td>old<\/td>\n",
       "    <\/tr>\n",
       "    <tr>\n",
       "      <th>14<\/th>\n",
       "      <td>52679<\/td>\n",
       "      <td>J. murphy<\/td>\n",
       "      <td>36<\/td>\n",
       "      <td>Republic of ireland<\/td>\n",
       "      <td>62<\/td>\n",
       "      <td>62<\/td>\n",
       "      <td>Bury<\/td>\n",
       "      <td>40.0<\/td>\n",
       "      <td>1<\/td>\n",
       "      <td>Left<\/td>\n",
       "      <td>1.0<\/td>\n",
       "      <td>1.0<\/td>\n",
       "      <td>Gk<\/td>\n",
       "      <td>2017<\/td>\n",
       "      <td>6.166667<\/td>\n",
       "      <td>194.0<\/td>\n",
       "      <td>70.0<\/td>\n",
       "      <td>old<\/td>\n",
       "    <\/tr>\n",
       "  <\/tbody>\n",
       "<\/table>\n",
       "<\/div>"
      ]
     },
     "metadata":{
      
     },
     "output_type":"display_data"
    }
   ],
   "metadata":{
    "datalore":{
     "node_id":"YaVxWgUI3y6bPF8aHeo5PU",
     "type":"CODE",
     "hide_input_from_viewers":false,
     "hide_output_from_viewers":false,
     "report_properties":{
      "rowId":"CihPJH8h5kOkfyg5Ex0aZ9",
      "relativeY":0
     }
    }
   }
  },
  {
   "cell_type":"markdown",
   "source":[
    "## Считаем количество футболистов по группам"
   ],
   "attachments":{
    
   },
   "metadata":{
    "datalore":{
     "node_id":"URcdSUrgeryutTYz0moArM",
     "type":"MD",
     "hide_input_from_viewers":false,
     "hide_output_from_viewers":false,
     "report_properties":{
      "rowId":"4s0KNfdfOMNl5hUVgH5kBL",
      "relativeY":0
     }
    }
   }
  },
  {
   "cell_type":"code",
   "source":[
    "df.groupby(['Age group']).size()"
   ],
   "execution_count":121,
   "outputs":[
    {
     "data":{
      "text\/html":[
       "<pre>Age group\n",
       "middle      1646\n",
       "old          466\n",
       "very old      15\n",
       "young        270\n",
       "dtype: int64<\/pre>"
      ]
     },
     "metadata":{
      
     },
     "output_type":"display_data"
    }
   ],
   "metadata":{
    "datalore":{
     "node_id":"1oCM0jK3G4YKVRpaiL3l2R",
     "type":"CODE",
     "hide_input_from_viewers":false,
     "hide_output_from_viewers":false,
     "report_properties":{
      "rowId":"mqKmYAw3E6oB8B3gMMyzEO",
      "relativeY":0
     }
    }
   }
  }
 ],
 "metadata":{
  "kernelspec":{
   "display_name":"Python",
   "language":"python",
   "name":"python"
  },
  "datalore":{
   "computation_mode":"JUPYTER",
   "package_manager":"pip",
   "base_environment":"default",
   "packages":[
    
   ],
   "report_row_ids":[
    "bA9sINQpNjaHLsrhhMRwO7",
    "LA0MeVWDdKBRV3iEemSLyg",
    "z8vG0N6SIOGcZRWZHaAlb9",
    "y9PqolLJl3T9Fiwf46qHSr",
    "wvx8Fel6z1hhHR6XaiuVMF",
    "JxXKb9ttYHTwV1YpKkHrVD",
    "6U6U3P1NaDq0fj4wsi4qfy",
    "fA5Z1TWAdYL0HGlqZ7snoU",
    "9KXKBBAugfkRo23XbTNp5g",
    "HP3Bdk39Bkn7mOUzroq7MD",
    "s3GE65aJLkJioo4CsQe2ef",
    "uT44gvhrPOJHSnjEoBUobi",
    "R4CsW66FewtAbak7BMMnJQ",
    "9Zg42BbX7H8xbPaZ2eTDr6",
    "ktHFT7jga2QBBucVO86j5X",
    "snvoHAHqmz9FJtIiuzj6zo",
    "vjnOpoNUzbbst6nIoudaU8",
    "u1AXHfSHdD4SSiRhxgNLxr",
    "GXbzS6TqzxMaipfRCZDQ7J",
    "mDgC5TH8iDtu5JgRU6ymQl",
    "efvJ0BQGrBItmegH6g6wEa",
    "9juOvNgA8fWSVZH19k33as",
    "yG7m4ZXfhz9Seqz4wxn2nX",
    "4YOJwmAWpHaQE6fjXceegz",
    "eV20rnVzdbwTOgW7CRwHf9",
    "QiHigGe7NKMSYsFkd4tKat",
    "uMduM960se2QHY0jbeKOMI",
    "LxoAwhr9ld1mMUI4rLl0iF",
    "08mjaPzBC23Ci69cKyhdOD",
    "zqeFnUYll6MCoF4dShuBQo",
    "CihPJH8h5kOkfyg5Ex0aZ9",
    "4s0KNfdfOMNl5hUVgH5kBL",
    "mqKmYAw3E6oB8B3gMMyzEO"
   ],
   "version":3
  }
 },
 "nbformat":4,
 "nbformat_minor":4
}